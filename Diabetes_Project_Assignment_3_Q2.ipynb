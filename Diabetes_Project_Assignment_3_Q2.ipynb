{
 "cells": [
  {
   "cell_type": "markdown",
   "metadata": {},
   "source": [
    "## Assignment 3\n",
    "### Question 2: Implement k-Means clustering algorithm on diabetic dataset\n",
    "### Link: https://www.kaggle.com/saurabh00007/diabetescsv"
   ]
  },
  {
   "cell_type": "code",
   "execution_count": 1,
   "metadata": {},
   "outputs": [],
   "source": [
    "# Importing the libraries\n",
    "\n",
    "import pandas as pd\n",
    "import numpy as np\n",
    "import matplotlib.pyplot as plt\n",
    "import seaborn as sns"
   ]
  },
  {
   "cell_type": "code",
   "execution_count": 2,
   "metadata": {},
   "outputs": [
    {
     "data": {
      "text/html": [
       "<div>\n",
       "<style scoped>\n",
       "    .dataframe tbody tr th:only-of-type {\n",
       "        vertical-align: middle;\n",
       "    }\n",
       "\n",
       "    .dataframe tbody tr th {\n",
       "        vertical-align: top;\n",
       "    }\n",
       "\n",
       "    .dataframe thead th {\n",
       "        text-align: right;\n",
       "    }\n",
       "</style>\n",
       "<table border=\"1\" class=\"dataframe\">\n",
       "  <thead>\n",
       "    <tr style=\"text-align: right;\">\n",
       "      <th></th>\n",
       "      <th>Pregnancies</th>\n",
       "      <th>Glucose</th>\n",
       "      <th>BloodPressure</th>\n",
       "      <th>SkinThickness</th>\n",
       "      <th>Insulin</th>\n",
       "      <th>BMI</th>\n",
       "      <th>DiabetesPedigreeFunction</th>\n",
       "      <th>Age</th>\n",
       "      <th>Outcome</th>\n",
       "    </tr>\n",
       "  </thead>\n",
       "  <tbody>\n",
       "    <tr>\n",
       "      <td>0</td>\n",
       "      <td>6</td>\n",
       "      <td>148</td>\n",
       "      <td>72</td>\n",
       "      <td>35</td>\n",
       "      <td>0</td>\n",
       "      <td>33.6</td>\n",
       "      <td>0.627</td>\n",
       "      <td>50</td>\n",
       "      <td>1</td>\n",
       "    </tr>\n",
       "    <tr>\n",
       "      <td>1</td>\n",
       "      <td>1</td>\n",
       "      <td>85</td>\n",
       "      <td>66</td>\n",
       "      <td>29</td>\n",
       "      <td>0</td>\n",
       "      <td>26.6</td>\n",
       "      <td>0.351</td>\n",
       "      <td>31</td>\n",
       "      <td>0</td>\n",
       "    </tr>\n",
       "    <tr>\n",
       "      <td>2</td>\n",
       "      <td>8</td>\n",
       "      <td>183</td>\n",
       "      <td>64</td>\n",
       "      <td>0</td>\n",
       "      <td>0</td>\n",
       "      <td>23.3</td>\n",
       "      <td>0.672</td>\n",
       "      <td>32</td>\n",
       "      <td>1</td>\n",
       "    </tr>\n",
       "    <tr>\n",
       "      <td>3</td>\n",
       "      <td>1</td>\n",
       "      <td>89</td>\n",
       "      <td>66</td>\n",
       "      <td>23</td>\n",
       "      <td>94</td>\n",
       "      <td>28.1</td>\n",
       "      <td>0.167</td>\n",
       "      <td>21</td>\n",
       "      <td>0</td>\n",
       "    </tr>\n",
       "    <tr>\n",
       "      <td>4</td>\n",
       "      <td>0</td>\n",
       "      <td>137</td>\n",
       "      <td>40</td>\n",
       "      <td>35</td>\n",
       "      <td>168</td>\n",
       "      <td>43.1</td>\n",
       "      <td>2.288</td>\n",
       "      <td>33</td>\n",
       "      <td>1</td>\n",
       "    </tr>\n",
       "  </tbody>\n",
       "</table>\n",
       "</div>"
      ],
      "text/plain": [
       "   Pregnancies  Glucose  BloodPressure  SkinThickness  Insulin   BMI  \\\n",
       "0            6      148             72             35        0  33.6   \n",
       "1            1       85             66             29        0  26.6   \n",
       "2            8      183             64              0        0  23.3   \n",
       "3            1       89             66             23       94  28.1   \n",
       "4            0      137             40             35      168  43.1   \n",
       "\n",
       "   DiabetesPedigreeFunction  Age  Outcome  \n",
       "0                     0.627   50        1  \n",
       "1                     0.351   31        0  \n",
       "2                     0.672   32        1  \n",
       "3                     0.167   21        0  \n",
       "4                     2.288   33        1  "
      ]
     },
     "execution_count": 2,
     "metadata": {},
     "output_type": "execute_result"
    }
   ],
   "source": [
    "df = pd.read_csv('diabetes.csv')\n",
    "df.head()"
   ]
  },
  {
   "cell_type": "code",
   "execution_count": 3,
   "metadata": {},
   "outputs": [
    {
     "name": "stdout",
     "output_type": "stream",
     "text": [
      "<class 'pandas.core.frame.DataFrame'>\n",
      "RangeIndex: 768 entries, 0 to 767\n",
      "Data columns (total 9 columns):\n",
      "Pregnancies                 768 non-null int64\n",
      "Glucose                     768 non-null int64\n",
      "BloodPressure               768 non-null int64\n",
      "SkinThickness               768 non-null int64\n",
      "Insulin                     768 non-null int64\n",
      "BMI                         768 non-null float64\n",
      "DiabetesPedigreeFunction    768 non-null float64\n",
      "Age                         768 non-null int64\n",
      "Outcome                     768 non-null int64\n",
      "dtypes: float64(2), int64(7)\n",
      "memory usage: 54.1 KB\n"
     ]
    }
   ],
   "source": [
    "df.info()"
   ]
  },
  {
   "cell_type": "code",
   "execution_count": 4,
   "metadata": {},
   "outputs": [
    {
     "data": {
      "text/html": [
       "<div>\n",
       "<style scoped>\n",
       "    .dataframe tbody tr th:only-of-type {\n",
       "        vertical-align: middle;\n",
       "    }\n",
       "\n",
       "    .dataframe tbody tr th {\n",
       "        vertical-align: top;\n",
       "    }\n",
       "\n",
       "    .dataframe thead th {\n",
       "        text-align: right;\n",
       "    }\n",
       "</style>\n",
       "<table border=\"1\" class=\"dataframe\">\n",
       "  <thead>\n",
       "    <tr style=\"text-align: right;\">\n",
       "      <th></th>\n",
       "      <th>Pregnancies</th>\n",
       "      <th>Glucose</th>\n",
       "      <th>BloodPressure</th>\n",
       "      <th>SkinThickness</th>\n",
       "      <th>Insulin</th>\n",
       "      <th>BMI</th>\n",
       "      <th>DiabetesPedigreeFunction</th>\n",
       "      <th>Age</th>\n",
       "      <th>Outcome</th>\n",
       "    </tr>\n",
       "  </thead>\n",
       "  <tbody>\n",
       "    <tr>\n",
       "      <td>count</td>\n",
       "      <td>768.000000</td>\n",
       "      <td>768.000000</td>\n",
       "      <td>768.000000</td>\n",
       "      <td>768.000000</td>\n",
       "      <td>768.000000</td>\n",
       "      <td>768.000000</td>\n",
       "      <td>768.000000</td>\n",
       "      <td>768.000000</td>\n",
       "      <td>768.000000</td>\n",
       "    </tr>\n",
       "    <tr>\n",
       "      <td>mean</td>\n",
       "      <td>3.845052</td>\n",
       "      <td>120.894531</td>\n",
       "      <td>69.105469</td>\n",
       "      <td>20.536458</td>\n",
       "      <td>79.799479</td>\n",
       "      <td>31.992578</td>\n",
       "      <td>0.471876</td>\n",
       "      <td>33.240885</td>\n",
       "      <td>0.348958</td>\n",
       "    </tr>\n",
       "    <tr>\n",
       "      <td>std</td>\n",
       "      <td>3.369578</td>\n",
       "      <td>31.972618</td>\n",
       "      <td>19.355807</td>\n",
       "      <td>15.952218</td>\n",
       "      <td>115.244002</td>\n",
       "      <td>7.884160</td>\n",
       "      <td>0.331329</td>\n",
       "      <td>11.760232</td>\n",
       "      <td>0.476951</td>\n",
       "    </tr>\n",
       "    <tr>\n",
       "      <td>min</td>\n",
       "      <td>0.000000</td>\n",
       "      <td>0.000000</td>\n",
       "      <td>0.000000</td>\n",
       "      <td>0.000000</td>\n",
       "      <td>0.000000</td>\n",
       "      <td>0.000000</td>\n",
       "      <td>0.078000</td>\n",
       "      <td>21.000000</td>\n",
       "      <td>0.000000</td>\n",
       "    </tr>\n",
       "    <tr>\n",
       "      <td>25%</td>\n",
       "      <td>1.000000</td>\n",
       "      <td>99.000000</td>\n",
       "      <td>62.000000</td>\n",
       "      <td>0.000000</td>\n",
       "      <td>0.000000</td>\n",
       "      <td>27.300000</td>\n",
       "      <td>0.243750</td>\n",
       "      <td>24.000000</td>\n",
       "      <td>0.000000</td>\n",
       "    </tr>\n",
       "    <tr>\n",
       "      <td>50%</td>\n",
       "      <td>3.000000</td>\n",
       "      <td>117.000000</td>\n",
       "      <td>72.000000</td>\n",
       "      <td>23.000000</td>\n",
       "      <td>30.500000</td>\n",
       "      <td>32.000000</td>\n",
       "      <td>0.372500</td>\n",
       "      <td>29.000000</td>\n",
       "      <td>0.000000</td>\n",
       "    </tr>\n",
       "    <tr>\n",
       "      <td>75%</td>\n",
       "      <td>6.000000</td>\n",
       "      <td>140.250000</td>\n",
       "      <td>80.000000</td>\n",
       "      <td>32.000000</td>\n",
       "      <td>127.250000</td>\n",
       "      <td>36.600000</td>\n",
       "      <td>0.626250</td>\n",
       "      <td>41.000000</td>\n",
       "      <td>1.000000</td>\n",
       "    </tr>\n",
       "    <tr>\n",
       "      <td>max</td>\n",
       "      <td>17.000000</td>\n",
       "      <td>199.000000</td>\n",
       "      <td>122.000000</td>\n",
       "      <td>99.000000</td>\n",
       "      <td>846.000000</td>\n",
       "      <td>67.100000</td>\n",
       "      <td>2.420000</td>\n",
       "      <td>81.000000</td>\n",
       "      <td>1.000000</td>\n",
       "    </tr>\n",
       "  </tbody>\n",
       "</table>\n",
       "</div>"
      ],
      "text/plain": [
       "       Pregnancies     Glucose  BloodPressure  SkinThickness     Insulin  \\\n",
       "count   768.000000  768.000000     768.000000     768.000000  768.000000   \n",
       "mean      3.845052  120.894531      69.105469      20.536458   79.799479   \n",
       "std       3.369578   31.972618      19.355807      15.952218  115.244002   \n",
       "min       0.000000    0.000000       0.000000       0.000000    0.000000   \n",
       "25%       1.000000   99.000000      62.000000       0.000000    0.000000   \n",
       "50%       3.000000  117.000000      72.000000      23.000000   30.500000   \n",
       "75%       6.000000  140.250000      80.000000      32.000000  127.250000   \n",
       "max      17.000000  199.000000     122.000000      99.000000  846.000000   \n",
       "\n",
       "              BMI  DiabetesPedigreeFunction         Age     Outcome  \n",
       "count  768.000000                768.000000  768.000000  768.000000  \n",
       "mean    31.992578                  0.471876   33.240885    0.348958  \n",
       "std      7.884160                  0.331329   11.760232    0.476951  \n",
       "min      0.000000                  0.078000   21.000000    0.000000  \n",
       "25%     27.300000                  0.243750   24.000000    0.000000  \n",
       "50%     32.000000                  0.372500   29.000000    0.000000  \n",
       "75%     36.600000                  0.626250   41.000000    1.000000  \n",
       "max     67.100000                  2.420000   81.000000    1.000000  "
      ]
     },
     "execution_count": 4,
     "metadata": {},
     "output_type": "execute_result"
    }
   ],
   "source": [
    "df.describe()"
   ]
  },
  {
   "cell_type": "code",
   "execution_count": 5,
   "metadata": {},
   "outputs": [],
   "source": [
    "X = df.iloc[:,:-1].values\n",
    "y = df['Outcome'].values\n",
    "\n",
    "#Training the model \n",
    "from sklearn.model_selection import train_test_split\n",
    "X_train,X_test,y_train,y_test = train_test_split(X,y,test_size=0.2,random_state=0)\n"
   ]
  },
  {
   "cell_type": "code",
   "execution_count": 6,
   "metadata": {},
   "outputs": [
    {
     "data": {
      "text/plain": [
       "array([0.89142243, 0.059357  ])"
      ]
     },
     "execution_count": 6,
     "metadata": {},
     "output_type": "execute_result"
    }
   ],
   "source": [
    "# Applying PCA\n",
    "from sklearn.decomposition import PCA\n",
    "pca = PCA(n_components = 2)\n",
    "X_train = pca.fit_transform(X_train)\n",
    "X_test = pca.transform(X_test)\n",
    "explained_variance = pca.explained_variance_ratio_\n",
    "explained_variance"
   ]
  },
  {
   "cell_type": "code",
   "execution_count": 7,
   "metadata": {},
   "outputs": [],
   "source": [
    "# Fitting K-Means to the dataset\n",
    "from sklearn.cluster import KMeans as KM\n",
    "kmeans = KM(n_clusters = 2, init = 'k-means++', random_state = 0)\n",
    "y_kmeans = kmeans.fit(X,y)"
   ]
  },
  {
   "cell_type": "code",
   "execution_count": 8,
   "metadata": {},
   "outputs": [
    {
     "data": {
      "text/plain": [
       "array([0, 0, 0, 0, 1, 0, 0, 0, 1, 0, 0, 0, 0, 1, 1, 0, 1, 0, 0, 0, 1, 0,\n",
       "       0, 0, 1, 0, 0, 0, 0, 0, 0, 1, 0, 0, 0, 1, 0, 0, 0, 1, 0, 0, 0, 1,\n",
       "       0, 0, 0, 0, 0, 0, 0, 0, 0, 1, 1, 0, 1, 0, 0, 0, 0, 0, 0, 0, 0, 0,\n",
       "       0, 0, 0, 0, 0, 0, 0, 1, 0, 0, 0, 0, 0, 0, 0, 0, 0, 0, 0, 0, 0, 0,\n",
       "       0, 0, 0, 1, 0, 0, 0, 1, 0, 0, 0, 1, 0, 0, 0, 0, 0, 1, 0, 0, 0, 0,\n",
       "       0, 1, 0, 0, 1, 0, 0, 0, 0, 0, 0, 0, 0, 0, 0, 0, 0, 0, 1, 0, 1, 0,\n",
       "       1, 0, 0, 0, 0, 0, 0, 1, 0, 0, 0, 0, 1, 0, 0, 0, 0, 0, 1, 0, 1, 1,\n",
       "       0, 0, 0, 0, 0, 0, 0, 0, 1, 0, 0, 1, 0, 0, 0, 0, 0, 0, 0, 0, 0, 0,\n",
       "       0, 0, 0, 0, 0, 0, 0, 0, 0, 0, 1, 0, 0, 1, 0, 0, 0, 0, 0, 1, 0, 0,\n",
       "       0, 1, 0, 0, 0, 0, 1, 0, 1, 0, 0, 0, 0, 0, 0, 0, 1, 1, 0, 0, 0, 0,\n",
       "       1, 0, 0, 1, 0, 0, 0, 0, 1, 0, 0, 1, 0, 0, 0, 0, 1, 0, 0, 0, 0, 0,\n",
       "       0, 1, 1, 0, 0, 1, 1, 0, 0, 0, 0, 0, 1, 0, 0, 0, 1, 1, 0, 0, 0, 0,\n",
       "       0, 0, 0, 0, 0, 0, 0, 0, 0, 0, 0, 0, 0, 0, 0, 1, 0, 0, 1, 0, 0, 0,\n",
       "       1, 1, 0, 0, 0, 0, 1, 1, 0, 0, 1, 1, 1, 0, 0, 0, 0, 0, 0, 0, 0, 1,\n",
       "       1, 1, 0, 1, 0, 0, 0, 0, 0, 0, 0, 0, 1, 0, 0, 0, 0, 1, 1, 0, 0, 0,\n",
       "       0, 0, 0, 0, 0, 1, 0, 0, 1, 0, 0, 0, 0, 0, 0, 0, 0, 0, 0, 0, 0, 0,\n",
       "       0, 0, 0, 0, 1, 0, 0, 1, 1, 0, 0, 0, 1, 0, 0, 0, 0, 0, 1, 0, 0, 0,\n",
       "       1, 1, 0, 0, 0, 0, 0, 0, 1, 0, 0, 0, 0, 0, 1, 0, 1, 0, 1, 0, 0, 1,\n",
       "       0, 0, 0, 0, 0, 0, 0, 0, 0, 1, 0, 0, 0, 1, 0, 1, 1, 0, 1, 1, 0, 0,\n",
       "       0, 0, 1, 0, 0, 0, 1, 1, 0, 1, 1, 1, 0, 0, 0, 0, 0, 0, 0, 0, 0, 0,\n",
       "       0, 0, 0, 0, 0, 0, 0, 0, 0, 0, 0, 0, 1, 0, 0, 0, 0, 0, 1, 0, 0, 0,\n",
       "       0, 0, 0, 0, 0, 0, 0, 1, 0, 0, 0, 0, 0, 0, 1, 0, 0, 0, 1, 0, 0, 0,\n",
       "       0, 1, 1, 1, 0, 0, 0, 0, 0, 0, 0, 0, 0, 0, 1, 1, 0, 0, 0, 0, 0, 0,\n",
       "       0, 1, 0, 0, 0, 1, 0, 0, 0, 0, 1, 0, 0, 1, 0, 0, 0, 0, 0, 0, 0, 0,\n",
       "       1, 0, 0, 0, 0, 0, 0, 0, 0, 0, 1, 1, 1, 1, 0, 0, 0, 1, 1, 1, 0, 0,\n",
       "       0, 0, 0, 0, 0, 1, 0, 0, 0, 0, 0, 1, 0, 0, 0, 0, 0, 0, 0, 1, 0, 0,\n",
       "       0, 0, 1, 0, 0, 0, 0, 0, 0, 0, 0, 0, 1, 0, 0, 0, 1, 0, 0, 0, 0, 0,\n",
       "       1, 1, 0, 0, 0, 0, 0, 0, 0, 0, 0, 0, 1, 0, 1, 1, 1, 1, 1, 0, 1, 0,\n",
       "       0, 0, 0, 0, 1, 0, 0, 0, 0, 0, 0, 0, 0, 0, 0, 0, 0, 1, 0, 0, 0, 0,\n",
       "       0, 0, 0, 0, 0, 0, 1, 1, 1, 1, 0, 0, 0, 0, 0, 0, 0, 1, 0, 1, 0, 0,\n",
       "       0, 0, 1, 0, 0, 0, 0, 0, 1, 0, 1, 0, 0, 1, 0, 0, 0, 0, 0, 1, 0, 0,\n",
       "       0, 0, 0, 1, 0, 0, 1, 1, 0, 0, 0, 0, 0, 1, 0, 0, 1, 0, 1, 0, 0, 0,\n",
       "       0, 0, 0, 1, 0, 1, 1, 0, 0, 1, 0, 1, 1, 0, 1, 0, 0, 1, 0, 0, 0, 0,\n",
       "       1, 0, 0, 0, 0, 0, 0, 1, 0, 0, 0, 0, 1, 0, 1, 0, 0, 0, 1, 0, 0, 0,\n",
       "       1, 0, 0, 0, 0, 1, 0, 0, 0, 0, 0, 0, 0, 0, 0, 1, 0, 0, 0, 0])"
      ]
     },
     "execution_count": 8,
     "metadata": {},
     "output_type": "execute_result"
    }
   ],
   "source": [
    "y_kmeans.labels_"
   ]
  },
  {
   "cell_type": "code",
   "execution_count": 9,
   "metadata": {},
   "outputs": [
    {
     "name": "stdout",
     "output_type": "stream",
     "text": [
      "Original Values:  1  Predicted Values:  0\n",
      "Original Values:  0  Predicted Values:  0\n",
      "Original Values:  1  Predicted Values:  0\n",
      "Original Values:  0  Predicted Values:  0\n",
      "Original Values:  1  Predicted Values:  1\n",
      "Original Values:  0  Predicted Values:  0\n",
      "Original Values:  1  Predicted Values:  0\n",
      "Original Values:  0  Predicted Values:  0\n",
      "Original Values:  1  Predicted Values:  1\n",
      "Original Values:  1  Predicted Values:  0\n",
      "Original Values:  0  Predicted Values:  0\n",
      "Original Values:  1  Predicted Values:  0\n",
      "Original Values:  0  Predicted Values:  0\n",
      "Original Values:  1  Predicted Values:  1\n",
      "Original Values:  1  Predicted Values:  1\n",
      "Original Values:  1  Predicted Values:  0\n",
      "Original Values:  1  Predicted Values:  1\n",
      "Original Values:  1  Predicted Values:  0\n",
      "Original Values:  0  Predicted Values:  0\n",
      "Original Values:  1  Predicted Values:  0\n",
      "Original Values:  0  Predicted Values:  1\n",
      "Original Values:  0  Predicted Values:  0\n",
      "Original Values:  1  Predicted Values:  0\n",
      "Original Values:  1  Predicted Values:  0\n",
      "Original Values:  1  Predicted Values:  1\n",
      "Original Values:  1  Predicted Values:  0\n",
      "Original Values:  1  Predicted Values:  0\n",
      "Original Values:  0  Predicted Values:  0\n",
      "Original Values:  0  Predicted Values:  0\n",
      "Original Values:  0  Predicted Values:  0\n",
      "Original Values:  0  Predicted Values:  0\n",
      "Original Values:  1  Predicted Values:  1\n",
      "Original Values:  0  Predicted Values:  0\n",
      "Original Values:  0  Predicted Values:  0\n",
      "Original Values:  0  Predicted Values:  0\n",
      "Original Values:  0  Predicted Values:  1\n",
      "Original Values:  0  Predicted Values:  0\n",
      "Original Values:  1  Predicted Values:  0\n",
      "Original Values:  1  Predicted Values:  0\n",
      "Original Values:  1  Predicted Values:  1\n",
      "Original Values:  0  Predicted Values:  0\n",
      "Original Values:  0  Predicted Values:  0\n",
      "Original Values:  0  Predicted Values:  0\n",
      "Original Values:  1  Predicted Values:  1\n",
      "Original Values:  0  Predicted Values:  0\n",
      "Original Values:  1  Predicted Values:  0\n",
      "Original Values:  0  Predicted Values:  0\n",
      "Original Values:  0  Predicted Values:  0\n",
      "Original Values:  1  Predicted Values:  0\n",
      "Original Values:  0  Predicted Values:  0\n",
      "Original Values:  0  Predicted Values:  0\n",
      "Original Values:  0  Predicted Values:  0\n",
      "Original Values:  0  Predicted Values:  0\n",
      "Original Values:  1  Predicted Values:  1\n",
      "Original Values:  0  Predicted Values:  1\n",
      "Original Values:  0  Predicted Values:  0\n",
      "Original Values:  1  Predicted Values:  1\n",
      "Original Values:  0  Predicted Values:  0\n",
      "Original Values:  0  Predicted Values:  0\n",
      "Original Values:  0  Predicted Values:  0\n",
      "Original Values:  0  Predicted Values:  0\n",
      "Original Values:  1  Predicted Values:  0\n",
      "Original Values:  0  Predicted Values:  0\n",
      "Original Values:  0  Predicted Values:  0\n",
      "Original Values:  1  Predicted Values:  0\n",
      "Original Values:  0  Predicted Values:  0\n",
      "Original Values:  1  Predicted Values:  0\n",
      "Original Values:  0  Predicted Values:  0\n",
      "Original Values:  0  Predicted Values:  0\n",
      "Original Values:  0  Predicted Values:  0\n",
      "Original Values:  1  Predicted Values:  0\n",
      "Original Values:  0  Predicted Values:  0\n",
      "Original Values:  1  Predicted Values:  0\n",
      "Original Values:  0  Predicted Values:  1\n",
      "Original Values:  0  Predicted Values:  0\n",
      "Original Values:  0  Predicted Values:  0\n",
      "Original Values:  0  Predicted Values:  0\n",
      "Original Values:  0  Predicted Values:  0\n",
      "Original Values:  1  Predicted Values:  0\n",
      "Original Values:  0  Predicted Values:  0\n",
      "Original Values:  0  Predicted Values:  0\n",
      "Original Values:  0  Predicted Values:  0\n",
      "Original Values:  0  Predicted Values:  0\n",
      "Original Values:  0  Predicted Values:  0\n",
      "Original Values:  1  Predicted Values:  0\n",
      "Original Values:  0  Predicted Values:  0\n",
      "Original Values:  0  Predicted Values:  0\n",
      "Original Values:  0  Predicted Values:  0\n",
      "Original Values:  1  Predicted Values:  0\n",
      "Original Values:  0  Predicted Values:  0\n",
      "Original Values:  0  Predicted Values:  0\n",
      "Original Values:  0  Predicted Values:  1\n",
      "Original Values:  0  Predicted Values:  0\n",
      "Original Values:  1  Predicted Values:  0\n",
      "Original Values:  0  Predicted Values:  0\n",
      "Original Values:  0  Predicted Values:  1\n",
      "Original Values:  0  Predicted Values:  0\n",
      "Original Values:  0  Predicted Values:  0\n",
      "Original Values:  0  Predicted Values:  0\n",
      "Original Values:  1  Predicted Values:  1\n",
      "Original Values:  1  Predicted Values:  0\n",
      "Original Values:  0  Predicted Values:  0\n",
      "Original Values:  0  Predicted Values:  0\n",
      "Original Values:  0  Predicted Values:  0\n",
      "Original Values:  0  Predicted Values:  0\n",
      "Original Values:  0  Predicted Values:  1\n",
      "Original Values:  0  Predicted Values:  0\n",
      "Original Values:  0  Predicted Values:  0\n",
      "Original Values:  0  Predicted Values:  0\n",
      "Original Values:  1  Predicted Values:  0\n",
      "Original Values:  1  Predicted Values:  0\n",
      "Original Values:  1  Predicted Values:  1\n",
      "Original Values:  0  Predicted Values:  0\n",
      "Original Values:  0  Predicted Values:  0\n",
      "Original Values:  1  Predicted Values:  1\n",
      "Original Values:  1  Predicted Values:  0\n",
      "Original Values:  1  Predicted Values:  0\n",
      "Original Values:  0  Predicted Values:  0\n",
      "Original Values:  0  Predicted Values:  0\n",
      "Original Values:  0  Predicted Values:  0\n",
      "Original Values:  1  Predicted Values:  0\n",
      "Original Values:  0  Predicted Values:  0\n",
      "Original Values:  0  Predicted Values:  0\n",
      "Original Values:  0  Predicted Values:  0\n",
      "Original Values:  1  Predicted Values:  0\n",
      "Original Values:  1  Predicted Values:  0\n",
      "Original Values:  0  Predicted Values:  0\n",
      "Original Values:  0  Predicted Values:  0\n",
      "Original Values:  1  Predicted Values:  1\n",
      "Original Values:  1  Predicted Values:  0\n",
      "Original Values:  1  Predicted Values:  1\n",
      "Original Values:  1  Predicted Values:  0\n",
      "Original Values:  1  Predicted Values:  1\n",
      "Original Values:  0  Predicted Values:  0\n",
      "Original Values:  0  Predicted Values:  0\n",
      "Original Values:  0  Predicted Values:  0\n",
      "Original Values:  0  Predicted Values:  0\n",
      "Original Values:  0  Predicted Values:  0\n",
      "Original Values:  0  Predicted Values:  0\n",
      "Original Values:  0  Predicted Values:  1\n",
      "Original Values:  0  Predicted Values:  0\n",
      "Original Values:  0  Predicted Values:  0\n",
      "Original Values:  0  Predicted Values:  0\n",
      "Original Values:  1  Predicted Values:  0\n",
      "Original Values:  0  Predicted Values:  1\n",
      "Original Values:  0  Predicted Values:  0\n",
      "Original Values:  0  Predicted Values:  0\n",
      "Original Values:  0  Predicted Values:  0\n",
      "Original Values:  0  Predicted Values:  0\n",
      "Original Values:  0  Predicted Values:  0\n",
      "Original Values:  0  Predicted Values:  1\n",
      "Original Values:  0  Predicted Values:  0\n",
      "Original Values:  1  Predicted Values:  1\n",
      "Original Values:  0  Predicted Values:  1\n",
      "Original Values:  1  Predicted Values:  0\n",
      "Original Values:  1  Predicted Values:  0\n",
      "Original Values:  0  Predicted Values:  0\n",
      "Original Values:  0  Predicted Values:  0\n",
      "Original Values:  0  Predicted Values:  0\n",
      "Original Values:  1  Predicted Values:  0\n",
      "Original Values:  0  Predicted Values:  0\n",
      "Original Values:  0  Predicted Values:  0\n",
      "Original Values:  0  Predicted Values:  1\n",
      "Original Values:  0  Predicted Values:  0\n",
      "Original Values:  1  Predicted Values:  0\n",
      "Original Values:  1  Predicted Values:  1\n",
      "Original Values:  0  Predicted Values:  0\n",
      "Original Values:  0  Predicted Values:  0\n",
      "Original Values:  0  Predicted Values:  0\n",
      "Original Values:  0  Predicted Values:  0\n",
      "Original Values:  1  Predicted Values:  0\n",
      "Original Values:  1  Predicted Values:  0\n",
      "Original Values:  0  Predicted Values:  0\n",
      "Original Values:  0  Predicted Values:  0\n",
      "Original Values:  0  Predicted Values:  0\n",
      "Original Values:  1  Predicted Values:  0\n",
      "Original Values:  0  Predicted Values:  0\n",
      "Original Values:  1  Predicted Values:  0\n",
      "Original Values:  0  Predicted Values:  0\n",
      "Original Values:  1  Predicted Values:  0\n",
      "Original Values:  0  Predicted Values:  0\n",
      "Original Values:  0  Predicted Values:  0\n",
      "Original Values:  0  Predicted Values:  0\n",
      "Original Values:  0  Predicted Values:  0\n",
      "Original Values:  0  Predicted Values:  0\n",
      "Original Values:  1  Predicted Values:  0\n",
      "Original Values:  1  Predicted Values:  1\n",
      "Original Values:  1  Predicted Values:  0\n",
      "Original Values:  1  Predicted Values:  0\n",
      "Original Values:  1  Predicted Values:  1\n",
      "Original Values:  0  Predicted Values:  0\n",
      "Original Values:  0  Predicted Values:  0\n",
      "Original Values:  1  Predicted Values:  0\n",
      "Original Values:  1  Predicted Values:  0\n",
      "Original Values:  0  Predicted Values:  0\n",
      "Original Values:  1  Predicted Values:  1\n",
      "Original Values:  0  Predicted Values:  0\n",
      "Original Values:  1  Predicted Values:  0\n",
      "Original Values:  1  Predicted Values:  0\n",
      "Original Values:  1  Predicted Values:  1\n",
      "Original Values:  0  Predicted Values:  0\n",
      "Original Values:  0  Predicted Values:  0\n",
      "Original Values:  0  Predicted Values:  0\n",
      "Original Values:  0  Predicted Values:  0\n",
      "Original Values:  0  Predicted Values:  1\n",
      "Original Values:  0  Predicted Values:  0\n",
      "Original Values:  1  Predicted Values:  1\n",
      "Original Values:  1  Predicted Values:  0\n",
      "Original Values:  0  Predicted Values:  0\n",
      "Original Values:  1  Predicted Values:  0\n",
      "Original Values:  0  Predicted Values:  0\n",
      "Original Values:  0  Predicted Values:  0\n",
      "Original Values:  0  Predicted Values:  0\n",
      "Original Values:  1  Predicted Values:  0\n",
      "Original Values:  1  Predicted Values:  1\n",
      "Original Values:  1  Predicted Values:  1\n",
      "Original Values:  1  Predicted Values:  0\n",
      "Original Values:  0  Predicted Values:  0\n",
      "Original Values:  1  Predicted Values:  0\n",
      "Original Values:  1  Predicted Values:  0\n",
      "Original Values:  1  Predicted Values:  1\n",
      "Original Values:  1  Predicted Values:  0\n",
      "Original Values:  0  Predicted Values:  0\n",
      "Original Values:  0  Predicted Values:  1\n",
      "Original Values:  0  Predicted Values:  0\n",
      "Original Values:  0  Predicted Values:  0\n",
      "Original Values:  0  Predicted Values:  0\n",
      "Original Values:  1  Predicted Values:  0\n",
      "Original Values:  0  Predicted Values:  1\n",
      "Original Values:  0  Predicted Values:  0\n",
      "Original Values:  1  Predicted Values:  0\n",
      "Original Values:  1  Predicted Values:  1\n",
      "Original Values:  0  Predicted Values:  0\n",
      "Original Values:  0  Predicted Values:  0\n",
      "Original Values:  0  Predicted Values:  0\n",
      "Original Values:  1  Predicted Values:  0\n",
      "Original Values:  1  Predicted Values:  1\n",
      "Original Values:  1  Predicted Values:  0\n",
      "Original Values:  1  Predicted Values:  0\n",
      "Original Values:  0  Predicted Values:  0\n",
      "Original Values:  0  Predicted Values:  0\n",
      "Original Values:  0  Predicted Values:  0\n",
      "Original Values:  1  Predicted Values:  0\n",
      "Original Values:  1  Predicted Values:  1\n",
      "Original Values:  0  Predicted Values:  1\n",
      "Original Values:  1  Predicted Values:  0\n",
      "Original Values:  0  Predicted Values:  0\n",
      "Original Values:  0  Predicted Values:  1\n",
      "Original Values:  0  Predicted Values:  1\n",
      "Original Values:  0  Predicted Values:  0\n",
      "Original Values:  0  Predicted Values:  0\n",
      "Original Values:  0  Predicted Values:  0\n",
      "Original Values:  0  Predicted Values:  0\n",
      "Original Values:  0  Predicted Values:  0\n",
      "Original Values:  1  Predicted Values:  1\n",
      "Original Values:  1  Predicted Values:  0\n",
      "Original Values:  0  Predicted Values:  0\n",
      "Original Values:  0  Predicted Values:  0\n",
      "Original Values:  0  Predicted Values:  1\n",
      "Original Values:  1  Predicted Values:  1\n",
      "Original Values:  0  Predicted Values:  0\n",
      "Original Values:  1  Predicted Values:  0\n",
      "Original Values:  0  Predicted Values:  0\n",
      "Original Values:  0  Predicted Values:  0\n",
      "Original Values:  1  Predicted Values:  0\n",
      "Original Values:  0  Predicted Values:  0\n",
      "Original Values:  1  Predicted Values:  0\n",
      "Original Values:  0  Predicted Values:  0\n",
      "Original Values:  0  Predicted Values:  0\n",
      "Original Values:  1  Predicted Values:  0\n",
      "Original Values:  1  Predicted Values:  0\n",
      "Original Values:  0  Predicted Values:  0\n",
      "Original Values:  0  Predicted Values:  0\n",
      "Original Values:  0  Predicted Values:  0\n",
      "Original Values:  0  Predicted Values:  0\n",
      "Original Values:  0  Predicted Values:  0\n",
      "Original Values:  1  Predicted Values:  0\n",
      "Original Values:  0  Predicted Values:  0\n",
      "Original Values:  0  Predicted Values:  0\n",
      "Original Values:  0  Predicted Values:  1\n",
      "Original Values:  1  Predicted Values:  0\n",
      "Original Values:  0  Predicted Values:  0\n",
      "Original Values:  0  Predicted Values:  1\n",
      "Original Values:  1  Predicted Values:  0\n",
      "Original Values:  1  Predicted Values:  0\n",
      "Original Values:  0  Predicted Values:  0\n",
      "Original Values:  0  Predicted Values:  1\n",
      "Original Values:  1  Predicted Values:  1\n",
      "Original Values:  0  Predicted Values:  0\n",
      "Original Values:  0  Predicted Values:  0\n",
      "Original Values:  0  Predicted Values:  0\n",
      "Original Values:  1  Predicted Values:  0\n",
      "Original Values:  1  Predicted Values:  1\n",
      "Original Values:  1  Predicted Values:  1\n",
      "Original Values:  0  Predicted Values:  0\n",
      "Original Values:  0  Predicted Values:  0\n",
      "Original Values:  1  Predicted Values:  1\n",
      "Original Values:  0  Predicted Values:  1\n",
      "Original Values:  1  Predicted Values:  1\n",
      "Original Values:  0  Predicted Values:  0\n",
      "Original Values:  1  Predicted Values:  0\n",
      "Original Values:  1  Predicted Values:  0\n",
      "Original Values:  0  Predicted Values:  0\n",
      "Original Values:  1  Predicted Values:  0\n",
      "Original Values:  0  Predicted Values:  0\n",
      "Original Values:  0  Predicted Values:  0\n",
      "Original Values:  1  Predicted Values:  0\n",
      "Original Values:  0  Predicted Values:  1\n",
      "Original Values:  1  Predicted Values:  1\n",
      "Original Values:  1  Predicted Values:  1\n",
      "Original Values:  0  Predicted Values:  0\n",
      "Original Values:  0  Predicted Values:  1\n",
      "Original Values:  1  Predicted Values:  0\n",
      "Original Values:  0  Predicted Values:  0\n",
      "Original Values:  1  Predicted Values:  0\n",
      "Original Values:  0  Predicted Values:  0\n",
      "Original Values:  0  Predicted Values:  0\n",
      "Original Values:  1  Predicted Values:  0\n",
      "Original Values:  0  Predicted Values:  0\n",
      "Original Values:  1  Predicted Values:  0\n",
      "Original Values:  0  Predicted Values:  1\n",
      "Original Values:  1  Predicted Values:  0\n",
      "Original Values:  1  Predicted Values:  0\n",
      "Original Values:  1  Predicted Values:  0\n",
      "Original Values:  0  Predicted Values:  0\n",
      "Original Values:  0  Predicted Values:  1\n",
      "Original Values:  1  Predicted Values:  1\n",
      "Original Values:  0  Predicted Values:  0\n",
      "Original Values:  1  Predicted Values:  0\n",
      "Original Values:  0  Predicted Values:  0\n",
      "Original Values:  0  Predicted Values:  0\n",
      "Original Values:  0  Predicted Values:  0\n",
      "Original Values:  1  Predicted Values:  0\n",
      "Original Values:  0  Predicted Values:  0\n",
      "Original Values:  0  Predicted Values:  0\n",
      "Original Values:  0  Predicted Values:  1\n",
      "Original Values:  0  Predicted Values:  0\n",
      "Original Values:  1  Predicted Values:  0\n",
      "Original Values:  1  Predicted Values:  1\n",
      "Original Values:  1  Predicted Values:  0\n",
      "Original Values:  0  Predicted Values:  0\n",
      "Original Values:  0  Predicted Values:  0\n",
      "Original Values:  0  Predicted Values:  0\n",
      "Original Values:  0  Predicted Values:  0\n",
      "Original Values:  0  Predicted Values:  0\n",
      "Original Values:  0  Predicted Values:  0\n",
      "Original Values:  0  Predicted Values:  0\n",
      "Original Values:  0  Predicted Values:  0\n",
      "Original Values:  0  Predicted Values:  0\n",
      "Original Values:  1  Predicted Values:  0\n",
      "Original Values:  0  Predicted Values:  0\n",
      "Original Values:  0  Predicted Values:  0\n",
      "Original Values:  0  Predicted Values:  0\n",
      "Original Values:  0  Predicted Values:  0\n",
      "Original Values:  0  Predicted Values:  0\n",
      "Original Values:  1  Predicted Values:  0\n",
      "Original Values:  1  Predicted Values:  1\n"
     ]
    },
    {
     "name": "stdout",
     "output_type": "stream",
     "text": [
      "Original Values:  1  Predicted Values:  0\n",
      "Original Values:  0  Predicted Values:  0\n",
      "Original Values:  1  Predicted Values:  1\n",
      "Original Values:  1  Predicted Values:  1\n",
      "Original Values:  0  Predicted Values:  0\n",
      "Original Values:  0  Predicted Values:  0\n",
      "Original Values:  1  Predicted Values:  0\n",
      "Original Values:  0  Predicted Values:  1\n",
      "Original Values:  0  Predicted Values:  0\n",
      "Original Values:  1  Predicted Values:  0\n",
      "Original Values:  0  Predicted Values:  0\n",
      "Original Values:  0  Predicted Values:  0\n",
      "Original Values:  1  Predicted Values:  0\n",
      "Original Values:  1  Predicted Values:  1\n",
      "Original Values:  0  Predicted Values:  0\n",
      "Original Values:  0  Predicted Values:  0\n",
      "Original Values:  0  Predicted Values:  0\n",
      "Original Values:  0  Predicted Values:  1\n",
      "Original Values:  1  Predicted Values:  1\n",
      "Original Values:  0  Predicted Values:  0\n",
      "Original Values:  0  Predicted Values:  0\n",
      "Original Values:  1  Predicted Values:  0\n",
      "Original Values:  0  Predicted Values:  0\n",
      "Original Values:  0  Predicted Values:  0\n",
      "Original Values:  0  Predicted Values:  0\n",
      "Original Values:  0  Predicted Values:  1\n",
      "Original Values:  0  Predicted Values:  0\n",
      "Original Values:  0  Predicted Values:  0\n",
      "Original Values:  0  Predicted Values:  0\n",
      "Original Values:  1  Predicted Values:  0\n",
      "Original Values:  1  Predicted Values:  0\n",
      "Original Values:  1  Predicted Values:  1\n",
      "Original Values:  0  Predicted Values:  0\n",
      "Original Values:  0  Predicted Values:  1\n",
      "Original Values:  1  Predicted Values:  0\n",
      "Original Values:  0  Predicted Values:  1\n",
      "Original Values:  0  Predicted Values:  0\n",
      "Original Values:  1  Predicted Values:  0\n",
      "Original Values:  0  Predicted Values:  1\n",
      "Original Values:  0  Predicted Values:  0\n",
      "Original Values:  1  Predicted Values:  0\n",
      "Original Values:  0  Predicted Values:  0\n",
      "Original Values:  1  Predicted Values:  0\n",
      "Original Values:  1  Predicted Values:  0\n",
      "Original Values:  0  Predicted Values:  0\n",
      "Original Values:  1  Predicted Values:  0\n",
      "Original Values:  0  Predicted Values:  0\n",
      "Original Values:  1  Predicted Values:  0\n",
      "Original Values:  0  Predicted Values:  1\n",
      "Original Values:  1  Predicted Values:  0\n",
      "Original Values:  0  Predicted Values:  0\n",
      "Original Values:  1  Predicted Values:  0\n",
      "Original Values:  1  Predicted Values:  1\n",
      "Original Values:  0  Predicted Values:  0\n",
      "Original Values:  0  Predicted Values:  1\n",
      "Original Values:  0  Predicted Values:  1\n",
      "Original Values:  0  Predicted Values:  0\n",
      "Original Values:  1  Predicted Values:  1\n",
      "Original Values:  1  Predicted Values:  1\n",
      "Original Values:  0  Predicted Values:  0\n",
      "Original Values:  1  Predicted Values:  0\n",
      "Original Values:  0  Predicted Values:  0\n",
      "Original Values:  1  Predicted Values:  0\n",
      "Original Values:  0  Predicted Values:  1\n",
      "Original Values:  0  Predicted Values:  0\n",
      "Original Values:  0  Predicted Values:  0\n",
      "Original Values:  0  Predicted Values:  0\n",
      "Original Values:  1  Predicted Values:  1\n",
      "Original Values:  1  Predicted Values:  1\n",
      "Original Values:  0  Predicted Values:  0\n",
      "Original Values:  1  Predicted Values:  1\n",
      "Original Values:  0  Predicted Values:  1\n",
      "Original Values:  1  Predicted Values:  1\n",
      "Original Values:  0  Predicted Values:  0\n",
      "Original Values:  0  Predicted Values:  0\n",
      "Original Values:  0  Predicted Values:  0\n",
      "Original Values:  0  Predicted Values:  0\n",
      "Original Values:  0  Predicted Values:  0\n",
      "Original Values:  1  Predicted Values:  0\n",
      "Original Values:  0  Predicted Values:  0\n",
      "Original Values:  0  Predicted Values:  0\n",
      "Original Values:  0  Predicted Values:  0\n",
      "Original Values:  0  Predicted Values:  0\n",
      "Original Values:  1  Predicted Values:  0\n",
      "Original Values:  0  Predicted Values:  0\n",
      "Original Values:  0  Predicted Values:  0\n",
      "Original Values:  1  Predicted Values:  0\n",
      "Original Values:  1  Predicted Values:  0\n",
      "Original Values:  1  Predicted Values:  0\n",
      "Original Values:  0  Predicted Values:  0\n",
      "Original Values:  0  Predicted Values:  0\n",
      "Original Values:  1  Predicted Values:  0\n",
      "Original Values:  0  Predicted Values:  0\n",
      "Original Values:  0  Predicted Values:  0\n",
      "Original Values:  1  Predicted Values:  0\n",
      "Original Values:  0  Predicted Values:  1\n",
      "Original Values:  0  Predicted Values:  0\n",
      "Original Values:  0  Predicted Values:  0\n",
      "Original Values:  1  Predicted Values:  0\n",
      "Original Values:  0  Predicted Values:  0\n",
      "Original Values:  0  Predicted Values:  0\n",
      "Original Values:  1  Predicted Values:  1\n",
      "Original Values:  0  Predicted Values:  0\n",
      "Original Values:  0  Predicted Values:  0\n",
      "Original Values:  0  Predicted Values:  0\n",
      "Original Values:  0  Predicted Values:  0\n",
      "Original Values:  0  Predicted Values:  0\n",
      "Original Values:  0  Predicted Values:  0\n",
      "Original Values:  0  Predicted Values:  0\n",
      "Original Values:  0  Predicted Values:  0\n",
      "Original Values:  0  Predicted Values:  0\n",
      "Original Values:  1  Predicted Values:  0\n",
      "Original Values:  0  Predicted Values:  1\n",
      "Original Values:  0  Predicted Values:  0\n",
      "Original Values:  0  Predicted Values:  0\n",
      "Original Values:  0  Predicted Values:  0\n",
      "Original Values:  0  Predicted Values:  0\n",
      "Original Values:  0  Predicted Values:  0\n",
      "Original Values:  0  Predicted Values:  0\n",
      "Original Values:  1  Predicted Values:  1\n",
      "Original Values:  0  Predicted Values:  0\n",
      "Original Values:  0  Predicted Values:  0\n",
      "Original Values:  0  Predicted Values:  0\n",
      "Original Values:  1  Predicted Values:  1\n",
      "Original Values:  0  Predicted Values:  0\n",
      "Original Values:  0  Predicted Values:  0\n",
      "Original Values:  0  Predicted Values:  0\n",
      "Original Values:  1  Predicted Values:  0\n",
      "Original Values:  1  Predicted Values:  1\n",
      "Original Values:  0  Predicted Values:  1\n",
      "Original Values:  0  Predicted Values:  1\n",
      "Original Values:  0  Predicted Values:  0\n",
      "Original Values:  0  Predicted Values:  0\n",
      "Original Values:  0  Predicted Values:  0\n",
      "Original Values:  0  Predicted Values:  0\n",
      "Original Values:  0  Predicted Values:  0\n",
      "Original Values:  1  Predicted Values:  0\n",
      "Original Values:  0  Predicted Values:  0\n",
      "Original Values:  0  Predicted Values:  0\n",
      "Original Values:  0  Predicted Values:  0\n",
      "Original Values:  0  Predicted Values:  0\n",
      "Original Values:  1  Predicted Values:  1\n",
      "Original Values:  0  Predicted Values:  1\n",
      "Original Values:  0  Predicted Values:  0\n",
      "Original Values:  0  Predicted Values:  0\n",
      "Original Values:  1  Predicted Values:  0\n",
      "Original Values:  0  Predicted Values:  0\n",
      "Original Values:  0  Predicted Values:  0\n",
      "Original Values:  0  Predicted Values:  0\n",
      "Original Values:  1  Predicted Values:  0\n",
      "Original Values:  0  Predicted Values:  1\n",
      "Original Values:  0  Predicted Values:  0\n",
      "Original Values:  0  Predicted Values:  0\n",
      "Original Values:  1  Predicted Values:  0\n",
      "Original Values:  0  Predicted Values:  1\n",
      "Original Values:  0  Predicted Values:  0\n",
      "Original Values:  0  Predicted Values:  0\n",
      "Original Values:  0  Predicted Values:  0\n",
      "Original Values:  1  Predicted Values:  0\n",
      "Original Values:  1  Predicted Values:  1\n",
      "Original Values:  0  Predicted Values:  0\n",
      "Original Values:  0  Predicted Values:  0\n",
      "Original Values:  0  Predicted Values:  1\n",
      "Original Values:  0  Predicted Values:  0\n",
      "Original Values:  0  Predicted Values:  0\n",
      "Original Values:  0  Predicted Values:  0\n",
      "Original Values:  1  Predicted Values:  0\n",
      "Original Values:  0  Predicted Values:  0\n",
      "Original Values:  0  Predicted Values:  0\n",
      "Original Values:  0  Predicted Values:  0\n",
      "Original Values:  0  Predicted Values:  0\n",
      "Original Values:  0  Predicted Values:  1\n",
      "Original Values:  0  Predicted Values:  0\n",
      "Original Values:  0  Predicted Values:  0\n",
      "Original Values:  0  Predicted Values:  0\n",
      "Original Values:  0  Predicted Values:  0\n",
      "Original Values:  0  Predicted Values:  0\n",
      "Original Values:  0  Predicted Values:  0\n",
      "Original Values:  1  Predicted Values:  0\n",
      "Original Values:  0  Predicted Values:  0\n",
      "Original Values:  0  Predicted Values:  0\n",
      "Original Values:  0  Predicted Values:  1\n",
      "Original Values:  1  Predicted Values:  1\n",
      "Original Values:  1  Predicted Values:  1\n",
      "Original Values:  1  Predicted Values:  1\n",
      "Original Values:  1  Predicted Values:  0\n",
      "Original Values:  0  Predicted Values:  0\n",
      "Original Values:  0  Predicted Values:  0\n",
      "Original Values:  1  Predicted Values:  1\n",
      "Original Values:  1  Predicted Values:  1\n",
      "Original Values:  0  Predicted Values:  1\n",
      "Original Values:  0  Predicted Values:  0\n",
      "Original Values:  0  Predicted Values:  0\n",
      "Original Values:  0  Predicted Values:  0\n",
      "Original Values:  0  Predicted Values:  0\n",
      "Original Values:  0  Predicted Values:  0\n",
      "Original Values:  0  Predicted Values:  0\n",
      "Original Values:  0  Predicted Values:  0\n",
      "Original Values:  0  Predicted Values:  1\n",
      "Original Values:  0  Predicted Values:  0\n",
      "Original Values:  0  Predicted Values:  0\n",
      "Original Values:  0  Predicted Values:  0\n",
      "Original Values:  0  Predicted Values:  0\n",
      "Original Values:  1  Predicted Values:  0\n",
      "Original Values:  1  Predicted Values:  1\n",
      "Original Values:  0  Predicted Values:  0\n",
      "Original Values:  0  Predicted Values:  0\n",
      "Original Values:  0  Predicted Values:  0\n",
      "Original Values:  0  Predicted Values:  0\n",
      "Original Values:  0  Predicted Values:  0\n",
      "Original Values:  0  Predicted Values:  0\n",
      "Original Values:  0  Predicted Values:  0\n",
      "Original Values:  1  Predicted Values:  1\n",
      "Original Values:  0  Predicted Values:  0\n",
      "Original Values:  0  Predicted Values:  0\n",
      "Original Values:  0  Predicted Values:  0\n",
      "Original Values:  0  Predicted Values:  0\n",
      "Original Values:  0  Predicted Values:  1\n",
      "Original Values:  0  Predicted Values:  0\n",
      "Original Values:  0  Predicted Values:  0\n",
      "Original Values:  1  Predicted Values:  0\n",
      "Original Values:  0  Predicted Values:  0\n",
      "Original Values:  1  Predicted Values:  0\n",
      "Original Values:  1  Predicted Values:  0\n",
      "Original Values:  0  Predicted Values:  0\n",
      "Original Values:  0  Predicted Values:  0\n",
      "Original Values:  0  Predicted Values:  0\n",
      "Original Values:  1  Predicted Values:  1\n",
      "Original Values:  0  Predicted Values:  0\n",
      "Original Values:  1  Predicted Values:  0\n",
      "Original Values:  0  Predicted Values:  0\n",
      "Original Values:  1  Predicted Values:  1\n",
      "Original Values:  0  Predicted Values:  0\n",
      "Original Values:  1  Predicted Values:  0\n",
      "Original Values:  0  Predicted Values:  0\n",
      "Original Values:  1  Predicted Values:  0\n",
      "Original Values:  0  Predicted Values:  0\n",
      "Original Values:  0  Predicted Values:  1\n",
      "Original Values:  1  Predicted Values:  1\n",
      "Original Values:  0  Predicted Values:  0\n",
      "Original Values:  0  Predicted Values:  0\n",
      "Original Values:  1  Predicted Values:  0\n",
      "Original Values:  0  Predicted Values:  0\n",
      "Original Values:  0  Predicted Values:  0\n",
      "Original Values:  0  Predicted Values:  0\n",
      "Original Values:  0  Predicted Values:  0\n",
      "Original Values:  1  Predicted Values:  0\n",
      "Original Values:  1  Predicted Values:  0\n",
      "Original Values:  0  Predicted Values:  0\n",
      "Original Values:  1  Predicted Values:  1\n"
     ]
    },
    {
     "name": "stdout",
     "output_type": "stream",
     "text": [
      "Original Values:  0  Predicted Values:  0\n",
      "Original Values:  0  Predicted Values:  1\n",
      "Original Values:  0  Predicted Values:  1\n",
      "Original Values:  0  Predicted Values:  1\n",
      "Original Values:  1  Predicted Values:  1\n",
      "Original Values:  1  Predicted Values:  1\n",
      "Original Values:  0  Predicted Values:  0\n",
      "Original Values:  1  Predicted Values:  1\n",
      "Original Values:  0  Predicted Values:  0\n",
      "Original Values:  0  Predicted Values:  0\n",
      "Original Values:  0  Predicted Values:  0\n",
      "Original Values:  1  Predicted Values:  0\n",
      "Original Values:  1  Predicted Values:  0\n",
      "Original Values:  0  Predicted Values:  1\n",
      "Original Values:  0  Predicted Values:  0\n",
      "Original Values:  0  Predicted Values:  0\n",
      "Original Values:  0  Predicted Values:  0\n",
      "Original Values:  0  Predicted Values:  0\n",
      "Original Values:  0  Predicted Values:  0\n",
      "Original Values:  0  Predicted Values:  0\n",
      "Original Values:  0  Predicted Values:  0\n",
      "Original Values:  0  Predicted Values:  0\n",
      "Original Values:  0  Predicted Values:  0\n",
      "Original Values:  1  Predicted Values:  0\n",
      "Original Values:  0  Predicted Values:  0\n",
      "Original Values:  0  Predicted Values:  0\n",
      "Original Values:  0  Predicted Values:  1\n",
      "Original Values:  0  Predicted Values:  0\n",
      "Original Values:  1  Predicted Values:  0\n",
      "Original Values:  0  Predicted Values:  0\n",
      "Original Values:  0  Predicted Values:  0\n",
      "Original Values:  1  Predicted Values:  0\n",
      "Original Values:  0  Predicted Values:  0\n",
      "Original Values:  0  Predicted Values:  0\n",
      "Original Values:  0  Predicted Values:  0\n",
      "Original Values:  1  Predicted Values:  0\n",
      "Original Values:  0  Predicted Values:  0\n",
      "Original Values:  0  Predicted Values:  1\n",
      "Original Values:  0  Predicted Values:  1\n",
      "Original Values:  1  Predicted Values:  1\n",
      "Original Values:  1  Predicted Values:  1\n",
      "Original Values:  1  Predicted Values:  0\n",
      "Original Values:  0  Predicted Values:  0\n",
      "Original Values:  0  Predicted Values:  0\n",
      "Original Values:  0  Predicted Values:  0\n",
      "Original Values:  0  Predicted Values:  0\n",
      "Original Values:  0  Predicted Values:  0\n",
      "Original Values:  0  Predicted Values:  0\n",
      "Original Values:  1  Predicted Values:  1\n",
      "Original Values:  0  Predicted Values:  0\n",
      "Original Values:  0  Predicted Values:  1\n",
      "Original Values:  0  Predicted Values:  0\n",
      "Original Values:  1  Predicted Values:  0\n",
      "Original Values:  0  Predicted Values:  0\n",
      "Original Values:  1  Predicted Values:  0\n",
      "Original Values:  1  Predicted Values:  1\n",
      "Original Values:  1  Predicted Values:  0\n",
      "Original Values:  1  Predicted Values:  0\n",
      "Original Values:  0  Predicted Values:  0\n",
      "Original Values:  1  Predicted Values:  0\n",
      "Original Values:  1  Predicted Values:  0\n",
      "Original Values:  0  Predicted Values:  1\n",
      "Original Values:  0  Predicted Values:  0\n",
      "Original Values:  0  Predicted Values:  1\n",
      "Original Values:  0  Predicted Values:  0\n",
      "Original Values:  0  Predicted Values:  0\n",
      "Original Values:  0  Predicted Values:  1\n",
      "Original Values:  0  Predicted Values:  0\n",
      "Original Values:  1  Predicted Values:  0\n",
      "Original Values:  1  Predicted Values:  0\n",
      "Original Values:  0  Predicted Values:  0\n",
      "Original Values:  1  Predicted Values:  0\n",
      "Original Values:  0  Predicted Values:  1\n",
      "Original Values:  0  Predicted Values:  0\n",
      "Original Values:  1  Predicted Values:  0\n",
      "Original Values:  0  Predicted Values:  0\n",
      "Original Values:  1  Predicted Values:  0\n",
      "Original Values:  0  Predicted Values:  0\n",
      "Original Values:  0  Predicted Values:  1\n",
      "Original Values:  0  Predicted Values:  0\n",
      "Original Values:  0  Predicted Values:  0\n",
      "Original Values:  0  Predicted Values:  1\n",
      "Original Values:  1  Predicted Values:  1\n",
      "Original Values:  0  Predicted Values:  0\n",
      "Original Values:  1  Predicted Values:  0\n",
      "Original Values:  0  Predicted Values:  0\n",
      "Original Values:  1  Predicted Values:  0\n",
      "Original Values:  0  Predicted Values:  0\n",
      "Original Values:  1  Predicted Values:  1\n",
      "Original Values:  1  Predicted Values:  0\n",
      "Original Values:  0  Predicted Values:  0\n",
      "Original Values:  0  Predicted Values:  1\n",
      "Original Values:  0  Predicted Values:  0\n",
      "Original Values:  0  Predicted Values:  1\n",
      "Original Values:  1  Predicted Values:  0\n",
      "Original Values:  1  Predicted Values:  0\n",
      "Original Values:  0  Predicted Values:  0\n",
      "Original Values:  0  Predicted Values:  0\n",
      "Original Values:  0  Predicted Values:  0\n",
      "Original Values:  1  Predicted Values:  0\n",
      "Original Values:  0  Predicted Values:  1\n",
      "Original Values:  1  Predicted Values:  0\n",
      "Original Values:  1  Predicted Values:  1\n",
      "Original Values:  0  Predicted Values:  1\n",
      "Original Values:  0  Predicted Values:  0\n",
      "Original Values:  1  Predicted Values:  0\n",
      "Original Values:  0  Predicted Values:  1\n",
      "Original Values:  0  Predicted Values:  0\n",
      "Original Values:  1  Predicted Values:  1\n",
      "Original Values:  1  Predicted Values:  1\n",
      "Original Values:  0  Predicted Values:  0\n",
      "Original Values:  0  Predicted Values:  1\n",
      "Original Values:  1  Predicted Values:  0\n",
      "Original Values:  0  Predicted Values:  0\n",
      "Original Values:  0  Predicted Values:  1\n",
      "Original Values:  1  Predicted Values:  0\n",
      "Original Values:  0  Predicted Values:  0\n",
      "Original Values:  0  Predicted Values:  0\n",
      "Original Values:  0  Predicted Values:  0\n",
      "Original Values:  0  Predicted Values:  1\n",
      "Original Values:  0  Predicted Values:  0\n",
      "Original Values:  0  Predicted Values:  0\n",
      "Original Values:  0  Predicted Values:  0\n",
      "Original Values:  1  Predicted Values:  0\n",
      "Original Values:  1  Predicted Values:  0\n",
      "Original Values:  1  Predicted Values:  0\n",
      "Original Values:  0  Predicted Values:  1\n",
      "Original Values:  0  Predicted Values:  0\n",
      "Original Values:  0  Predicted Values:  0\n",
      "Original Values:  0  Predicted Values:  0\n",
      "Original Values:  0  Predicted Values:  0\n",
      "Original Values:  0  Predicted Values:  1\n",
      "Original Values:  1  Predicted Values:  0\n",
      "Original Values:  1  Predicted Values:  1\n",
      "Original Values:  0  Predicted Values:  0\n",
      "Original Values:  0  Predicted Values:  0\n",
      "Original Values:  1  Predicted Values:  0\n",
      "Original Values:  0  Predicted Values:  1\n",
      "Original Values:  0  Predicted Values:  0\n",
      "Original Values:  1  Predicted Values:  0\n",
      "Original Values:  0  Predicted Values:  0\n",
      "Original Values:  1  Predicted Values:  1\n",
      "Original Values:  1  Predicted Values:  0\n",
      "Original Values:  1  Predicted Values:  0\n",
      "Original Values:  0  Predicted Values:  0\n",
      "Original Values:  0  Predicted Values:  0\n",
      "Original Values:  1  Predicted Values:  1\n",
      "Original Values:  1  Predicted Values:  0\n",
      "Original Values:  1  Predicted Values:  0\n",
      "Original Values:  0  Predicted Values:  0\n",
      "Original Values:  1  Predicted Values:  0\n",
      "Original Values:  0  Predicted Values:  0\n",
      "Original Values:  1  Predicted Values:  0\n",
      "Original Values:  0  Predicted Values:  0\n",
      "Original Values:  1  Predicted Values:  0\n",
      "Original Values:  0  Predicted Values:  0\n",
      "Original Values:  0  Predicted Values:  1\n",
      "Original Values:  0  Predicted Values:  0\n",
      "Original Values:  0  Predicted Values:  0\n",
      "Original Values:  1  Predicted Values:  0\n",
      "Original Values:  0  Predicted Values:  0\n"
     ]
    }
   ],
   "source": [
    "# List for original values vs predicted values\n",
    "for i in range(len(y_kmeans.labels_)):\n",
    "    print(\"Original Values: \",y[i],\" Predicted Values: \",y_kmeans.labels_[i])"
   ]
  },
  {
   "cell_type": "code",
   "execution_count": 10,
   "metadata": {},
   "outputs": [
    {
     "data": {
      "text/plain": [
       "array([[  3.88391376, 115.26699834,  68.09784411,  17.6185738 ,\n",
       "         32.21227197,  31.17363184,   0.43757048,  33.11442786],\n",
       "       [  3.7030303 , 141.46060606,  72.78787879,  31.2       ,\n",
       "        253.70909091,  34.98545455,   0.59724848,  33.7030303 ]])"
      ]
     },
     "execution_count": 10,
     "metadata": {},
     "output_type": "execute_result"
    }
   ],
   "source": [
    "# Clusters Center\n",
    "kmeans.cluster_centers_"
   ]
  },
  {
   "cell_type": "code",
   "execution_count": 11,
   "metadata": {},
   "outputs": [
    {
     "name": "stdout",
     "output_type": "stream",
     "text": [
      "              precision    recall  f1-score   support\n",
      "\n",
      "           0       0.70      0.84      0.76       500\n",
      "           1       0.52      0.32      0.40       268\n",
      "\n",
      "    accuracy                           0.66       768\n",
      "   macro avg       0.61      0.58      0.58       768\n",
      "weighted avg       0.64      0.66      0.64       768\n",
      "\n"
     ]
    }
   ],
   "source": [
    "# Classification Report\n",
    "from sklearn.metrics import classification_report as CR\n",
    "print(CR(y,y_kmeans.labels_))"
   ]
  },
  {
   "cell_type": "markdown",
   "metadata": {},
   "source": [
    "## Original Visualization"
   ]
  },
  {
   "cell_type": "code",
   "execution_count": 13,
   "metadata": {},
   "outputs": [
    {
     "data": {
      "text/plain": [
       "<matplotlib.axes._subplots.AxesSubplot at 0x19f570ca848>"
      ]
     },
     "execution_count": 13,
     "metadata": {},
     "output_type": "execute_result"
    },
    {
     "data": {
      "image/png": "[encoded data removed]",
      "text/plain": [
       "<Figure size 432x288 with 1 Axes>"
      ]
     },
     "metadata": {
      "needs_background": "light"
     },
     "output_type": "display_data"
    }
   ],
   "source": [
    "sns.scatterplot(x='BloodPressure',y='Glucose',hue='Outcome',data=df)"
   ]
  },
  {
   "cell_type": "markdown",
   "metadata": {},
   "source": [
    "## Predicted Visualisation"
   ]
  },
  {
   "cell_type": "code",
   "execution_count": 14,
   "metadata": {},
   "outputs": [
    {
     "data": {
      "text/plain": [
       "<matplotlib.axes._subplots.AxesSubplot at 0x19f58d36a88>"
      ]
     },
     "execution_count": 14,
     "metadata": {},
     "output_type": "execute_result"
    },
    {
     "data": {
      "image/png": "[encoded data removed]",
      "text/plain": [
       "<Figure size 432x288 with 1 Axes>"
      ]
     },
     "metadata": {
      "needs_background": "light"
     },
     "output_type": "display_data"
    }
   ],
   "source": [
    "sns.scatterplot(x='BloodPressure',y='Glucose',hue=y_kmeans.labels_,data=df)"
   ]
  },
  {
   "cell_type": "code",
   "execution_count": 17,
   "metadata": {},
   "outputs": [],
   "source": [
    "# Confusion Matrix for a better understanding of our data\n",
    "from sklearn.metrics import confusion_matrix as CM\n",
    "cm=CM(y,y_kmeans.labels_)"
   ]
  },
  {
   "cell_type": "code",
   "execution_count": 18,
   "metadata": {},
   "outputs": [
    {
     "name": "stdout",
     "output_type": "stream",
     "text": [
      "[[421  79]\n",
      " [182  86]]\n"
     ]
    }
   ],
   "source": [
    "print(cm)"
   ]
  },
  {
   "cell_type": "code",
   "execution_count": 21,
   "metadata": {},
   "outputs": [],
   "source": [
    "# Accuracy of the model\n",
    "from sklearn.metrics import accuracy_score as AS\n",
    "accuracy = AS(y,y_kmeans.labels_)"
   ]
  },
  {
   "cell_type": "code",
   "execution_count": 22,
   "metadata": {},
   "outputs": [
    {
     "name": "stdout",
     "output_type": "stream",
     "text": [
      "0.66015625\n"
     ]
    }
   ],
   "source": [
    "print(accuracy)"
   ]
  },
  {
   "cell_type": "markdown",
   "metadata": {},
   "source": [
    "## Visualisation"
   ]
  },
  {
   "cell_type": "code",
   "execution_count": 23,
   "metadata": {},
   "outputs": [
    {
     "data": {
      "text/plain": [
       "<matplotlib.axes._subplots.AxesSubplot at 0x19f58e06a48>"
      ]
     },
     "execution_count": 23,
     "metadata": {},
     "output_type": "execute_result"
    },
    {
     "data": {
      "image/png": "[encoded data removed]",
      "text/plain": [
       "<Figure size 432x288 with 1 Axes>"
      ]
     },
     "metadata": {
      "needs_background": "light"
     },
     "output_type": "display_data"
    }
   ],
   "source": [
    "sns.countplot(x='Outcome',data=df)"
   ]
  },
  {
   "cell_type": "code",
   "execution_count": 24,
   "metadata": {},
   "outputs": [
    {
     "data": {
      "text/plain": [
       "<matplotlib.axes._subplots.AxesSubplot at 0x19f58e4dbc8>"
      ]
     },
     "execution_count": 24,
     "metadata": {},
     "output_type": "execute_result"
    },
    {
     "data": {
      "image/png": "[encoded data removed]",
      "text/plain": [
       "<Figure size 432x288 with 1 Axes>"
      ]
     },
     "metadata": {
      "needs_background": "light"
     },
     "output_type": "display_data"
    }
   ],
   "source": [
    "sns.violinplot(x='Outcome',y='Age',data=df)"
   ]
  },
  {
   "cell_type": "code",
   "execution_count": 25,
   "metadata": {},
   "outputs": [
    {
     "data": {
      "text/plain": [
       "<matplotlib.axes._subplots.AxesSubplot at 0x19f58dd1948>"
      ]
     },
     "execution_count": 25,
     "metadata": {},
     "output_type": "execute_result"
    },
    {
     "data": {
      "image/png": "[encoded data removed]",
      "text/plain": [
       "<Figure size 432x288 with 1 Axes>"
      ]
     },
     "metadata": {
      "needs_background": "light"
     },
     "output_type": "display_data"
    }
   ],
   "source": [
    "sns.violinplot(x='Outcome',y='BMI',data=df)"
   ]
  },
  {
   "cell_type": "code",
   "execution_count": 26,
   "metadata": {},
   "outputs": [
    {
     "data": {
      "text/plain": [
       "<matplotlib.axes._subplots.AxesSubplot at 0x19f58d9b608>"
      ]
     },
     "execution_count": 26,
     "metadata": {},
     "output_type": "execute_result"
    },
    {
     "data": {
      "image/png": "[encoded data removed]",
      "text/plain": [
       "<Figure size 432x288 with 1 Axes>"
      ]
     },
     "metadata": {
      "needs_background": "light"
     },
     "output_type": "display_data"
    }
   ],
   "source": [
    "#Can do entire dataframe with orient='h'\n",
    "sns.boxplot(data=df,palette='coolwarm',orient='h')"
   ]
  },
  {
   "cell_type": "code",
   "execution_count": 27,
   "metadata": {},
   "outputs": [
    {
     "data": {
      "text/plain": [
       "<matplotlib.axes._subplots.AxesSubplot at 0x19f58fd7908>"
      ]
     },
     "execution_count": 27,
     "metadata": {},
     "output_type": "execute_result"
    },
    {
     "data": {
      "image/png": "[encoded data removed]",
      "text/plain": [
       "<Figure size 432x288 with 1 Axes>"
      ]
     },
     "metadata": {
      "needs_background": "light"
     },
     "output_type": "display_data"
    }
   ],
   "source": [
    "sns.barplot(x='Pregnancies',y='Age',hue='Outcome',data=df)"
   ]
  },
  {
   "cell_type": "code",
   "execution_count": 28,
   "metadata": {},
   "outputs": [
    {
     "data": {
      "image/png": "[encoded data removed]",
      "text/plain": [
       "<Figure size 432x432 with 3 Axes>"
      ]
     },
     "metadata": {
      "needs_background": "light"
     },
     "output_type": "display_data"
    }
   ],
   "source": [
    "sns.jointplot(\"Insulin\",\"Age\", data=df, kind='hex');"
   ]
  },
  {
   "cell_type": "code",
   "execution_count": 29,
   "metadata": {},
   "outputs": [
    {
     "data": {
      "text/plain": [
       "<matplotlib.axes._subplots.AxesSubplot at 0x19f59243688>"
      ]
     },
     "execution_count": 29,
     "metadata": {},
     "output_type": "execute_result"
    },
    {
     "data": {
      "image/png": "[encoded data removed]",
      "text/plain": [
       "<Figure size 432x288 with 1 Axes>"
      ]
     },
     "metadata": {
      "needs_background": "light"
     },
     "output_type": "display_data"
    }
   ],
   "source": [
    "sns.scatterplot(x='BloodPressure', y='Age',data=df,hue='Outcome')"
   ]
  },
  {
   "cell_type": "markdown",
   "metadata": {},
   "source": [
    "## Tunning The Model"
   ]
  },
  {
   "cell_type": "code",
   "execution_count": 30,
   "metadata": {},
   "outputs": [],
   "source": [
    "from sklearn.model_selection import GridSearchCV"
   ]
  },
  {
   "cell_type": "code",
   "execution_count": 31,
   "metadata": {},
   "outputs": [
    {
     "name": "stdout",
     "output_type": "stream",
     "text": [
      "KMeans(algorithm='auto', copy_x=True, init='k-means++', max_iter=300,\n",
      "       n_clusters=8, n_init=10, n_jobs=None, precompute_distances='auto',\n",
      "       random_state=None, tol=0.0001, verbose=0)\n"
     ]
    }
   ],
   "source": [
    "print(KM())"
   ]
  },
  {
   "cell_type": "code",
   "execution_count": 32,
   "metadata": {},
   "outputs": [],
   "source": [
    "init=['k-means++','random']\n",
    "algorithm =['auto','full','elkan']"
   ]
  },
  {
   "cell_type": "code",
   "execution_count": 33,
   "metadata": {},
   "outputs": [],
   "source": [
    "p_grid={\n",
    "    'algorithm': algorithm,\n",
    "    'init': init\n",
    "}\n",
    "grid_search = GridSearchCV(estimator = y_kmeans,\n",
    "                           param_grid = p_grid,\n",
    "                           cv = 10,\n",
    "                           n_jobs = -1)"
   ]
  },
  {
   "cell_type": "code",
   "execution_count": 34,
   "metadata": {},
   "outputs": [
    {
     "name": "stderr",
     "output_type": "stream",
     "text": [
      "C:\\Users\\SAHIL\\Anaconda3\\lib\\site-packages\\sklearn\\model_selection\\_search.py:814: DeprecationWarning: The default of the `iid` parameter will change from True to False in version 0.22 and will be removed in 0.24. This will change numeric results when test-set sizes are unequal.\n",
      "  DeprecationWarning)\n"
     ]
    },
    {
     "data": {
      "text/plain": [
       "GridSearchCV(cv=10, error_score='raise-deprecating',\n",
       "             estimator=KMeans(algorithm='auto', copy_x=True, init='k-means++',\n",
       "                              max_iter=300, n_clusters=2, n_init=10,\n",
       "                              n_jobs=None, precompute_distances='auto',\n",
       "                              random_state=0, tol=0.0001, verbose=0),\n",
       "             iid='warn', n_jobs=-1,\n",
       "             param_grid={'algorithm': ['auto', 'full', 'elkan'],\n",
       "                         'init': ['k-means++', 'random']},\n",
       "             pre_dispatch='2*n_jobs', refit=True, return_train_score=False,\n",
       "             scoring=None, verbose=0)"
      ]
     },
     "execution_count": 34,
     "metadata": {},
     "output_type": "execute_result"
    }
   ],
   "source": [
    "grid_search.fit(X,y)"
   ]
  },
  {
   "cell_type": "code",
   "execution_count": 35,
   "metadata": {},
   "outputs": [
    {
     "data": {
      "text/plain": [
       "{'algorithm': 'auto', 'init': 'k-means++'}"
      ]
     },
     "execution_count": 35,
     "metadata": {},
     "output_type": "execute_result"
    }
   ],
   "source": [
    "grid_search.best_params_"
   ]
  },
  {
   "cell_type": "markdown",
   "metadata": {},
   "source": [
    "### That Means we do not need to change anything\n",
    "\n",
    "## Max Accuracy: 66%"
   ]
  },
  {
   "cell_type": "markdown",
   "metadata": {},
   "source": [
    "#### Name: Sahil Harjai"
   ]
  },
  {
   "cell_type": "code",
   "execution_count": null,
   "metadata": {},
   "outputs": [],
   "source": []
  }
 ],
 "metadata": {
  "kernelspec": {
   "display_name": "Python 3",
   "language": "python",
   "name": "python3"
  },
  "language_info": {
   "codemirror_mode": {
    "name": "ipython",
    "version": 3
   },
   "file_extension": ".py",
   "mimetype": "text/x-python",
   "name": "python",
   "nbconvert_exporter": "python",
   "pygments_lexer": "ipython3",
   "version": "3.7.4"
  }
 },
 "nbformat": 4,
 "nbformat_minor": 2
}
